{
 "cells": [
  {
   "cell_type": "code",
   "execution_count": 11,
   "metadata": {},
   "outputs": [
    {
     "name": "stdout",
     "output_type": "stream",
     "text": [
      "¡¡advertencia!!\n"
     ]
    }
   ],
   "source": [
    "# Añadir el código necesario para crear una variable que guarde la velocidad del asteroide.\n",
    "velast =  49\n",
    "# Escribe una expresión de prueba para calcular si necesita una advertencia.\n",
    "veladve= 25\n",
    "# Agregue las instrucciones que se ejecutarán si la expresión de prueba es true o false.\n",
    "if velast > veladve:\n",
    "    print (\"¡¡advertencia!!\")"
   ]
  },
  {
   "cell_type": "code",
   "execution_count": 17,
   "metadata": {},
   "outputs": [
    {
     "name": "stdout",
     "output_type": "stream",
     "text": [
      "no hay asteroides hoy\n"
     ]
    }
   ],
   "source": [
    "# Agrega el código para crear una variable para un asteroide que viaja a 19 km/s\n",
    "velasteoride = 19\n",
    "# Escribe varias expresiones de prueba para determinar si puedes ver el rayo de luz desde la tierra\n",
    "# Agrega las instrucciones que se ejecutarán si las expresiones de prueba son True o False\n",
    "\n",
    "if velasteoride == 20:\n",
    "    print (\"hay un asteroide en el cielo\")\n",
    "elif velasteoride > 20:\n",
    "    print (\"hay un asteroide en el cielo\")\n",
    "else:\n",
    "    print (\"no hay asteroides hoy\")\n",
    "\n"
   ]
  },
  {
   "cell_type": "code",
   "execution_count": 34,
   "metadata": {},
   "outputs": [
    {
     "name": "stdout",
     "output_type": "stream",
     "text": [
      "no hay asteroides hoy\n"
     ]
    }
   ],
   "source": [
    "# Agrega el código para crear nuevas variables para la velocidad y el tamaño del asteroide\n",
    "veladvertencia = 18\n",
    "velvista = 19\n",
    "tamañomin = 24\n",
    "tamañomax = 1000\n",
    "# Para probar el código, prueba con varias velocidades y tamaños\n",
    "# Escribe varias expresiones de prueba o combinaciones de expresiones de prueba para determinar qué mensaje se debe enviar a Tierra.\n",
    "\n",
    "if veladvertencia >= 25 or tamañomin >= 25 and tamañomin < tamañomax:\n",
    "    print (\"¡¡advertencia!!\")\n",
    "elif tamañomin > 25 and tamañomin < tamañomax:\n",
    "    print (\"peligro\")\n",
    "elif velvista > 20:\n",
    "    print (\"hay un asteroide en el cielo\") \n",
    "else:\n",
    "    print (\"no hay asteroides hoy\")\n",
    "\n"
   ]
  }
 ],
 "metadata": {
  "interpreter": {
   "hash": "de4bed9706de8ac15b7d510d20ed5008e95c809563e65a66bd9205b694c05482"
  },
  "kernelspec": {
   "display_name": "Python 3.10.2 64-bit",
   "language": "python",
   "name": "python3"
  },
  "language_info": {
   "codemirror_mode": {
    "name": "ipython",
    "version": 3
   },
   "file_extension": ".py",
   "mimetype": "text/x-python",
   "name": "python",
   "nbconvert_exporter": "python",
   "pygments_lexer": "ipython3",
   "version": "3.10.2"
  },
  "orig_nbformat": 4
 },
 "nbformat": 4,
 "nbformat_minor": 2
}
