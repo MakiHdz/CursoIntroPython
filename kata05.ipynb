{
 "cells": [
  {
   "cell_type": "markdown",
   "metadata": {},
   "source": [
    "# Ejercicio 1\n"
   ]
  },
  {
   "cell_type": "markdown",
   "metadata": {},
   "source": [
    "# Crear variables para almacenar las dos distancias\n",
    "# ¡Asegúrate de quitar las comas!"
   ]
  },
  {
   "cell_type": "code",
   "execution_count": 1,
   "metadata": {},
   "outputs": [],
   "source": [
    "\n",
    "distanciaTierra = 149597870 #km\n",
    "distanciaJupiter = 778547200 #km"
   ]
  },
  {
   "cell_type": "markdown",
   "metadata": {},
   "source": [
    "# Calcular la distancia entre planetas"
   ]
  },
  {
   "cell_type": "code",
   "execution_count": 2,
   "metadata": {},
   "outputs": [
    {
     "name": "stdout",
     "output_type": "stream",
     "text": [
      "628949330\n",
      "390810874\n"
     ]
    }
   ],
   "source": [
    "distanciaEntre= distanciaJupiter - distanciaTierra\n",
    "distanciaMillas= distanciaEntre * 0.621371\n",
    "\n",
    "print(distanciaEntre)\n",
    "print (round(distanciaMillas))"
   ]
  },
  {
   "cell_type": "markdown",
   "metadata": {},
   "source": []
  },
  {
   "cell_type": "markdown",
   "metadata": {},
   "source": [
    "# Ejercicio 2"
   ]
  },
  {
   "cell_type": "markdown",
   "metadata": {},
   "source": [
    "# Almacenar las entradas del usuario\n",
    "# Pista: variable = input(\"¿Cuál es tu nombre?\")"
   ]
  },
  {
   "cell_type": "code",
   "execution_count": 5,
   "metadata": {},
   "outputs": [
    {
     "name": "stdout",
     "output_type": "stream",
     "text": [
      "465456 45446\n"
     ]
    }
   ],
   "source": [
    "distanciaPlaneta1 = input(\"distania primer planeta\")\n",
    "distanciaPlaneta2 = input(\"distancia segundo planeta\")\n",
    "\n",
    "print(distanciaPlaneta1,distanciaPlaneta2)"
   ]
  },
  {
   "cell_type": "markdown",
   "metadata": {},
   "source": [
    "# Convierte las cadenas de ambos planetas a números enteros\n"
   ]
  },
  {
   "cell_type": "code",
   "execution_count": 6,
   "metadata": {},
   "outputs": [
    {
     "name": "stdout",
     "output_type": "stream",
     "text": [
      "465456 45446\n"
     ]
    }
   ],
   "source": [
    "\n",
    "dPlaneta1 = int(distanciaPlaneta1)\n",
    "dPlaneta2 = int(distanciaPlaneta2)\n",
    "\n",
    "print(dPlaneta1, dPlaneta2)"
   ]
  },
  {
   "cell_type": "markdown",
   "metadata": {},
   "source": [
    "# Realizar el cálculo y determinar el valor absoluto\n",
    "# Convertir de KM a Millas\n"
   ]
  },
  {
   "cell_type": "code",
   "execution_count": 8,
   "metadata": {},
   "outputs": [
    {
     "name": "stdout",
     "output_type": "stream",
     "text": [
      "en km\n",
      "420010\n",
      "en millas\n",
      "260826.21\n"
     ]
    }
   ],
   "source": [
    "distanciaEntrePlanetas = dPlaneta2 - dPlaneta1\n",
    "print(\"en km\")\n",
    "print (abs(distanciaEntrePlanetas,))\n",
    "\n",
    "\n",
    "distMillas = distanciaEntrePlanetas * 0.621\n",
    "print (\"en millas\")\n",
    "print (abs(distMillas))"
   ]
  }
 ],
 "metadata": {
  "interpreter": {
   "hash": "de4bed9706de8ac15b7d510d20ed5008e95c809563e65a66bd9205b694c05482"
  },
  "kernelspec": {
   "display_name": "Python 3.10.2 64-bit",
   "language": "python",
   "name": "python3"
  },
  "language_info": {
   "codemirror_mode": {
    "name": "ipython",
    "version": 3
   },
   "file_extension": ".py",
   "mimetype": "text/x-python",
   "name": "python",
   "nbconvert_exporter": "python",
   "pygments_lexer": "ipython3",
   "version": "3.10.2"
  },
  "orig_nbformat": 4
 },
 "nbformat": 4,
 "nbformat_minor": 2
}
