{
 "cells": [
  {
   "cell_type": "markdown",
   "metadata": {},
   "source": [
    "# Ejercicio 1"
   ]
  },
  {
   "cell_type": "code",
   "execution_count": 3,
   "metadata": {},
   "outputs": [],
   "source": [
    "# Función para leer 3 tanques de combustible y muestre el promedio\n",
    "def leerTanques(tanqueUno, tanqueDos, tanqueTres):\n",
    "    promedio = (tanqueUno + tanqueDos + tanqueTres) / 3\n",
    "    return f\"\"\"Combustible:\n",
    "    Promedio de Combustible: {promedio}%\n",
    "    Tanque Uno: {tanqueUno}%\n",
    "    Tanque Dos: {tanqueDos}%\n",
    "    Tanque Tres: {tanqueTres}% \n",
    "    \"\"\""
   ]
  },
  {
   "cell_type": "code",
   "execution_count": 5,
   "metadata": {},
   "outputs": [
    {
     "name": "stdout",
     "output_type": "stream",
     "text": [
      "Combustible:\n",
      "    Promedio de Combustible: 93.33333333333333%\n",
      "    Tanque Uno: 100%\n",
      "    Tanque Dos: 90%\n",
      "    Tanque Tres: 90% \n",
      "    \n"
     ]
    }
   ],
   "source": [
    "# Llamamos a la función que genera el reporte print(funcion(tanque1, tanque2, tanque3))\n",
    "print(leerTanques(100, 90, 90))"
   ]
  },
  {
   "cell_type": "code",
   "execution_count": 12,
   "metadata": {},
   "outputs": [
    {
     "name": "stdout",
     "output_type": "stream",
     "text": [
      "82.0\n"
     ]
    }
   ],
   "source": [
    "# Función promedio\n",
    "\n",
    "def promedio(values):\n",
    "    total = sum(values)\n",
    "    tanques = len(values)\n",
    "    return total / tanques\n",
    "\n",
    "print(promedio([80, 85, 81]))"
   ]
  },
  {
   "cell_type": "code",
   "execution_count": 17,
   "metadata": {},
   "outputs": [
    {
     "name": "stdout",
     "output_type": "stream",
     "text": [
      "Combustible:\n",
      "    Promedio de Combustible: 93.33333333333333%\n",
      "    Tanque Uno: 100%\n",
      "    Tanque Dos: 90%\n",
      "    Tanque Tres: 90% \n",
      "    \n"
     ]
    }
   ],
   "source": [
    "# Actualiza la función\n",
    "def leerTanques(tanqueUno, tanqueDos, tanqueTres):\n",
    "    return f\"\"\"Combustible:\n",
    "    Promedio de Combustible: {promedio([tanqueUno, tanqueDos, tanqueTres])}%\n",
    "    Tanque Uno: {tanqueUno}%\n",
    "    Tanque Dos: {tanqueDos}%\n",
    "    Tanque Tres: {tanqueTres}% \n",
    "    \"\"\"\n",
    "\n",
    "print(leerTanques(100, 90, 90))\n"
   ]
  },
  {
   "cell_type": "markdown",
   "metadata": {},
   "source": [
    "# Ejercicio 2 "
   ]
  },
  {
   "cell_type": "code",
   "execution_count": null,
   "metadata": {},
   "outputs": [],
   "source": [
    "# Función con un informe preciso de la misión. Considera hora de prelanzamiento, tiempo de vuelo, destino, tanque externo y tanque interno"
   ]
  },
  {
   "cell_type": "code",
   "execution_count": null,
   "metadata": {},
   "outputs": [],
   "source": [
    "# Escribe tu nueva función de reporte considerando lo anterior"
   ]
  },
  {
   "cell_type": "code",
   "execution_count": null,
   "metadata": {},
   "outputs": [],
   "source": [
    "# Escribe tu nueva función"
   ]
  }
 ],
 "metadata": {
  "interpreter": {
   "hash": "de4bed9706de8ac15b7d510d20ed5008e95c809563e65a66bd9205b694c05482"
  },
  "kernelspec": {
   "display_name": "Python 3.10.2 64-bit",
   "language": "python",
   "name": "python3"
  },
  "language_info": {
   "name": "python",
   "version": "3.10.2"
  },
  "orig_nbformat": 4
 },
 "nbformat": 4,
 "nbformat_minor": 2
}
